{
 "cells": [
  {
   "cell_type": "markdown",
   "metadata": {},
   "source": [
    "**Working with strings**\n",
    "\n",
    "To work with text data it is important to be able to use `string`.\n",
    "\n",
    "1. [String Types](#string_types)\n",
    "2. [String Operations](#string_ops)\n",
    "3. [String Indexing and Sliding](#string_in_sl)\n",
    "4. [String Methods](#string_methods)\n",
    "5. [String Formatting](#string_form)"
   ]
  },
  {
   "cell_type": "code",
   "execution_count": 1,
   "metadata": {
    "colab": {
     "base_uri": "https://localhost:8080/"
    },
    "id": "epQ6tTcC9IA-",
    "outputId": "a80f1122-777d-4203-c809-05a5798c43ce"
   },
   "outputs": [
    {
     "name": "stdout",
     "output_type": "stream",
     "text": [
      "The Zen of Python, by Tim Peters\n",
      "\n",
      "Beautiful is better than ugly.\n",
      "Explicit is better than implicit.\n",
      "Simple is better than complex.\n",
      "Complex is better than complicated.\n",
      "Flat is better than nested.\n",
      "Sparse is better than dense.\n",
      "Readability counts.\n",
      "Special cases aren't special enough to break the rules.\n",
      "Although practicality beats purity.\n",
      "Errors should never pass silently.\n",
      "Unless explicitly silenced.\n",
      "In the face of ambiguity, refuse the temptation to guess.\n",
      "There should be one-- and preferably only one --obvious way to do it.\n",
      "Although that way may not be obvious at first unless you're Dutch.\n",
      "Now is better than never.\n",
      "Although never is often better than *right* now.\n",
      "If the implementation is hard to explain, it's a bad idea.\n",
      "If the implementation is easy to explain, it may be a good idea.\n",
      "Namespaces are one honking great idea -- let's do more of those!\n"
     ]
    }
   ],
   "source": [
    "# zen of python\n",
    "import this"
   ]
  },
  {
   "cell_type": "markdown",
   "metadata": {
    "id": "4LLRGAKm9IBY"
   },
   "source": [
    "```\n",
    "stringliteral   ::=  [stringprefix](shortstring | longstring)\n",
    "stringprefix    ::=  \"r\" | \"u\" | \"ur\" | \"R\" | \"U\" | \"UR\" | \"Ur\" | \"uR\"\n",
    "                     | \"b\" | \"B\" | \"br\" | \"Br\" | \"bR\" | \"BR\"\n",
    "shortstring     ::=  \"'\" shortstringitem* \"'\" | '\"' shortstringitem* '\"'\n",
    "longstring      ::=  \"'''\" longstringitem* \"'''\" | '\"\"\"' longstringitem* '\"\"\"'\n",
    "shortstringitem ::=  shortstringchar | escapeseq\n",
    "longstringitem  ::=  longstringchar | escapeseq\n",
    "shortstringchar ::=  <any source character except \"\\\" or newline or the quote>\n",
    "longstringchar  ::=  <any source character except \"\\\">\n",
    "escapeseq       ::=  \"\\\" <any ASCII character>\n",
    "```"
   ]
  },
  {
   "cell_type": "markdown",
   "metadata": {
    "id": "NxPJh3QW9IBe"
   },
   "source": [
    "## String Types <a class='anchor' id='string_types'></a>"
   ]
  },
  {
   "cell_type": "code",
   "execution_count": 2,
   "metadata": {
    "colab": {
     "base_uri": "https://localhost:8080/"
    },
    "id": "4iZHatGP9IBl",
    "outputId": "a7070fd2-6311-43d8-87c4-663cf33f7e6d"
   },
   "outputs": [
    {
     "name": "stdout",
     "output_type": "stream",
     "text": [
      "ID: 2536809233344\n",
      "Type: <class 'str'>\n",
      "Value: This is a String\n"
     ]
    }
   ],
   "source": [
    "new_string = \"This is a String\"  # storing a string\n",
    "\n",
    "print(f'ID: {id(new_string)}')  # shows the object identifier (address)\n",
    "print(f'Type: {type(new_string)}')  # shows the object type\n",
    "print(f'Value: {new_string}')  # shows the object value"
   ]
  },
  {
   "cell_type": "code",
   "execution_count": 3,
   "metadata": {
    "colab": {
     "base_uri": "https://localhost:8080/"
    },
    "id": "PngAiOw99IBm",
    "outputId": "d742cf2c-61ee-47fe-9e43-31316a8602e2"
   },
   "outputs": [
    {
     "name": "stdout",
     "output_type": "stream",
     "text": [
      "Hello! I'm a simple string\n"
     ]
    }
   ],
   "source": [
    "# simple string\n",
    "simple_string = 'Hello!' + \" I'm a simple string\"\n",
    "print(simple_string)"
   ]
  },
  {
   "cell_type": "code",
   "execution_count": 4,
   "metadata": {
    "colab": {
     "base_uri": "https://localhost:8080/",
     "height": 35
    },
    "id": "KcdgAFuI9IBn",
    "outputId": "0e665ec5-57c4-40b9-ff96-a26844b96253"
   },
   "outputs": [
    {
     "data": {
      "text/plain": [
       "\"Hello I'm\\na multi-line\\nstring!\""
      ]
     },
     "execution_count": 4,
     "metadata": {},
     "output_type": "execute_result"
    }
   ],
   "source": [
    "# multi-line string, note the \\n (newline) escape character automatically created\n",
    "multi_line_string = \"\"\"Hello I'm\n",
    "a multi-line\n",
    "string!\"\"\"\n",
    "\n",
    "multi_line_string"
   ]
  },
  {
   "cell_type": "code",
   "execution_count": 5,
   "metadata": {
    "colab": {
     "base_uri": "https://localhost:8080/"
    },
    "id": "_6lgiltP9IBo",
    "outputId": "7a72e601-6a4e-42e6-afdf-c903bfd37e51"
   },
   "outputs": [
    {
     "name": "stdout",
     "output_type": "stream",
     "text": [
      "Hello I'm\n",
      "a multi-line\n",
      "string!\n"
     ]
    }
   ],
   "source": [
    "print(multi_line_string)"
   ]
  },
  {
   "cell_type": "code",
   "execution_count": 6,
   "metadata": {
    "colab": {
     "base_uri": "https://localhost:8080/"
    },
    "id": "LfmMF40o9IBq",
    "outputId": "87b5dd9f-fb95-4dff-ff63-086b5aeb0566"
   },
   "outputs": [
    {
     "name": "stdout",
     "output_type": "stream",
     "text": [
      "C:\the_folder\n",
      "ew_dir\f",
      "ile.txt\n"
     ]
    }
   ],
   "source": [
    "# Normal string with escape sequences leading to a wrong file path!\n",
    "escaped_string = \"C:\\the_folder\\new_dir\\file.txt\"\n",
    "print(escaped_string)  # will cause errors if we try to open a file here"
   ]
  },
  {
   "cell_type": "code",
   "execution_count": 7,
   "metadata": {
    "colab": {
     "base_uri": "https://localhost:8080/"
    },
    "id": "78ukq_5X9IBr",
    "outputId": "8c94f537-67d7-49ee-fc69-b2b0211a5388"
   },
   "outputs": [
    {
     "name": "stdout",
     "output_type": "stream",
     "text": [
      "C:\\the_folder\\new_dir\\file.txt\n"
     ]
    }
   ],
   "source": [
    "# raw string keeping the backslashes in its normal form\n",
    "raw_string = r'C:\\the_folder\\new_dir\\file.txt'\n",
    "print(raw_string)"
   ]
  },
  {
   "cell_type": "code",
   "execution_count": 8,
   "metadata": {
    "colab": {
     "base_uri": "https://localhost:8080/"
    },
    "id": "vU_3O_Ka9IBs",
    "outputId": "c21eec15-60b2-4743-b1af-5aff3c15af62"
   },
   "outputs": [
    {
     "name": "stdout",
     "output_type": "stream",
     "text": [
      "Hèllo!\n"
     ]
    }
   ],
   "source": [
    "# unicode string literals\n",
    "string_with_unicode = 'H\\u00e8llo!'\n",
    "print(string_with_unicode)"
   ]
  },
  {
   "cell_type": "code",
   "execution_count": 9,
   "metadata": {
    "colab": {
     "base_uri": "https://localhost:8080/"
    },
    "id": "df0ZzoEU9IBt",
    "outputId": "0e0be7fe-9965-4283-f00e-8bfe49730649"
   },
   "outputs": [
    {
     "name": "stdout",
     "output_type": "stream",
     "text": [
      "I love Pizza 🍕!  Shall we book a cab 🚕 to get pizza?\n"
     ]
    }
   ],
   "source": [
    "more_unicode = 'I love Pizza 🍕!  Shall we book a cab 🚕 to get pizza?'\n",
    "print(more_unicode)"
   ]
  },
  {
   "cell_type": "code",
   "execution_count": 10,
   "metadata": {
    "colab": {
     "base_uri": "https://localhost:8080/"
    },
    "id": "AJc_uncp9IBu",
    "outputId": "38faf817-55b8-4126-e9ca-bcb5e1e7bce1"
   },
   "outputs": [
    {
     "name": "stdout",
     "output_type": "stream",
     "text": [
      "Hèllo! \n",
      "I love Pizza 🍕!  Shall we book a cab 🚕 to get pizza?\n"
     ]
    }
   ],
   "source": [
    "print(f\"{string_with_unicode} \\n{more_unicode}\")"
   ]
  },
  {
   "cell_type": "code",
   "execution_count": 11,
   "metadata": {
    "colab": {
     "base_uri": "https://localhost:8080/",
     "height": 35
    },
    "id": "A4uIjSfs9IBv",
    "outputId": "3498722d-57b7-4eb1-d81b-ee97b083dad1"
   },
   "outputs": [
    {
     "data": {
      "text/plain": [
       "'Hèllo! I love Pizza 🍕!  Shall we book a cab 🚕 to get pizza?'"
      ]
     },
     "execution_count": 11,
     "metadata": {},
     "output_type": "execute_result"
    }
   ],
   "source": [
    "' '.join([string_with_unicode, more_unicode])"
   ]
  },
  {
   "cell_type": "code",
   "execution_count": 12,
   "metadata": {
    "colab": {
     "base_uri": "https://localhost:8080/",
     "height": 35
    },
    "id": "Km1NYFIa9IBw",
    "outputId": "5acaaa7f-6efa-4893-d0f2-a0454123b2ca"
   },
   "outputs": [
    {
     "data": {
      "text/plain": [
       "'?azzip teg ot 🚕 bac a koob ew llahS  !🍕 azziP evol I'"
      ]
     },
     "execution_count": 12,
     "metadata": {},
     "output_type": "execute_result"
    }
   ],
   "source": [
    "more_unicode[::-1]  # reverses the string"
   ]
  },
  {
   "cell_type": "markdown",
   "metadata": {
    "id": "bYMZhlaJ9IBx"
   },
   "source": [
    "## String Operations <a class='anchor' id='string_ops'></a>"
   ]
  },
  {
   "cell_type": "markdown",
   "metadata": {
    "id": "J17CkqXc9IBy"
   },
   "source": [
    "### Different ways of strings concatenation"
   ]
  },
  {
   "cell_type": "code",
   "execution_count": 13,
   "metadata": {
    "colab": {
     "base_uri": "https://localhost:8080/",
     "height": 0
    },
    "id": "FDSQ0vdv9IBy",
    "outputId": "4f2c884d-2cf8-4a73-b7f0-441b3095678d",
    "scrolled": true
   },
   "outputs": [
    {
     "data": {
      "text/plain": [
       "'Hello 😊 and welcome to Python 🐍!'"
      ]
     },
     "execution_count": 13,
     "metadata": {},
     "output_type": "execute_result"
    }
   ],
   "source": [
    "'Hello 😊' + ' and welcome ' + 'to Python 🐍!'"
   ]
  },
  {
   "cell_type": "code",
   "execution_count": 14,
   "metadata": {
    "colab": {
     "base_uri": "https://localhost:8080/",
     "height": 0
    },
    "id": "65z-85jq9IB0",
    "outputId": "eb69f3b6-0a7d-40b1-938f-96baf83f3a1f"
   },
   "outputs": [
    {
     "data": {
      "text/plain": [
       "'Hello 😊 and welcome to Python 🐍!'"
      ]
     },
     "execution_count": 14,
     "metadata": {},
     "output_type": "execute_result"
    }
   ],
   "source": [
    "'Hello 😊' ' and welcome ' 'to Python 🐍!'"
   ]
  },
  {
   "cell_type": "code",
   "execution_count": 15,
   "metadata": {
    "id": "ghPcaDjb9IB1"
   },
   "outputs": [],
   "source": [
    "# concatenation of variables and literals"
   ]
  },
  {
   "cell_type": "code",
   "execution_count": 16,
   "metadata": {
    "colab": {
     "base_uri": "https://localhost:8080/",
     "height": 0
    },
    "id": "NT6TjMk39IB2",
    "outputId": "fa942863-d300-4171-a454-83c5f3a004a8"
   },
   "outputs": [
    {
     "data": {
      "text/plain": [
       "'Hello 😊 Python 💻!'"
      ]
     },
     "execution_count": 16,
     "metadata": {},
     "output_type": "execute_result"
    }
   ],
   "source": [
    "s1 = 'Python 💻!'\n",
    "'Hello 😊 ' + s1"
   ]
  },
  {
   "cell_type": "code",
   "execution_count": 17,
   "metadata": {
    "colab": {
     "base_uri": "https://localhost:8080/",
     "height": 0
    },
    "id": "i-4OSdpq9IB2",
    "outputId": "4ac97644-d2fc-4c29-9b1f-6b7de7703dad"
   },
   "outputs": [
    {
     "data": {
      "text/plain": [
       "'Hello 😊 Python 💻!'"
      ]
     },
     "execution_count": 17,
     "metadata": {},
     "output_type": "execute_result"
    }
   ],
   "source": [
    "'Hello 😊 ' + s1"
   ]
  },
  {
   "cell_type": "code",
   "execution_count": 18,
   "metadata": {
    "id": "l8_UNQ7i9IB5"
   },
   "outputs": [],
   "source": [
    "# some more ways of concatenating strings"
   ]
  },
  {
   "cell_type": "code",
   "execution_count": 19,
   "metadata": {
    "colab": {
     "base_uri": "https://localhost:8080/",
     "height": 0
    },
    "id": "9_2r6QLT9IB6",
    "outputId": "be349f7d-d3df-46f7-956a-46c22ee02cbd"
   },
   "outputs": [
    {
     "data": {
      "text/plain": [
       "'--🐍Python🐍----🐍Python🐍----🐍Python🐍----🐍Python🐍----🐍Python🐍--'"
      ]
     },
     "execution_count": 19,
     "metadata": {},
     "output_type": "execute_result"
    }
   ],
   "source": [
    "s2 = '--🐍Python🐍--'\n",
    "s2 * 5"
   ]
  },
  {
   "cell_type": "code",
   "execution_count": 20,
   "metadata": {
    "colab": {
     "base_uri": "https://localhost:8080/",
     "height": 0
    },
    "id": "oa9tXTa99IB6",
    "outputId": "48e11bac-2c3f-4964-a04d-b85836ddbc69"
   },
   "outputs": [
    {
     "data": {
      "text/plain": [
       "'Python 💻!--🐍Python🐍--'"
      ]
     },
     "execution_count": 20,
     "metadata": {},
     "output_type": "execute_result"
    }
   ],
   "source": [
    "s1 + s2"
   ]
  },
  {
   "cell_type": "code",
   "execution_count": 21,
   "metadata": {
    "colab": {
     "base_uri": "https://localhost:8080/",
     "height": 0
    },
    "id": "vEtFnR6q9IB7",
    "outputId": "e167154f-5e18-419c-f270-c2dcf25534ec"
   },
   "outputs": [
    {
     "data": {
      "text/plain": [
       "'Python 💻!--🐍Python🐍--Python 💻!--🐍Python🐍--Python 💻!--🐍Python🐍--'"
      ]
     },
     "execution_count": 21,
     "metadata": {},
     "output_type": "execute_result"
    }
   ],
   "source": [
    "(s1 + s2)*3"
   ]
  },
  {
   "cell_type": "code",
   "execution_count": 22,
   "metadata": {
    "id": "d4Lg2HXX9IB8"
   },
   "outputs": [],
   "source": [
    "# concatenating several strings together in parentheses"
   ]
  },
  {
   "cell_type": "code",
   "execution_count": 23,
   "metadata": {
    "colab": {
     "base_uri": "https://localhost:8080/",
     "height": 0
    },
    "id": "TKkhMjVe9IB9",
    "outputId": "22d7e2f2-43e0-4b1b-d90a-9163d224297b"
   },
   "outputs": [
    {
     "data": {
      "text/plain": [
       "'This is another way to concatenate several strings!'"
      ]
     },
     "execution_count": 23,
     "metadata": {},
     "output_type": "execute_result"
    }
   ],
   "source": [
    "s3 = ('This '\n",
    "      'is another way '\n",
    "      'to concatenate '\n",
    "      'several strings!')\n",
    "s3"
   ]
  },
  {
   "cell_type": "code",
   "execution_count": 24,
   "metadata": {
    "id": "n3FXQxWt9IB-"
   },
   "outputs": [],
   "source": [
    "# checking for substrings in a string"
   ]
  },
  {
   "cell_type": "code",
   "execution_count": 25,
   "metadata": {
    "colab": {
     "base_uri": "https://localhost:8080/"
    },
    "id": "zupJmFZI9IB_",
    "outputId": "de62af30-6821-4819-d9d5-ee5bcb3973ce"
   },
   "outputs": [
    {
     "data": {
      "text/plain": [
       "True"
      ]
     },
     "execution_count": 25,
     "metadata": {},
     "output_type": "execute_result"
    }
   ],
   "source": [
    "'way' in s3"
   ]
  },
  {
   "cell_type": "code",
   "execution_count": 26,
   "metadata": {
    "colab": {
     "base_uri": "https://localhost:8080/"
    },
    "id": "ZeaK8_nA9IB_",
    "outputId": "3c0eaf79-90b7-4f99-d306-5fc67bbdaadf"
   },
   "outputs": [
    {
     "data": {
      "text/plain": [
       "False"
      ]
     },
     "execution_count": 26,
     "metadata": {},
     "output_type": "execute_result"
    }
   ],
   "source": [
    "'python' in s3"
   ]
  },
  {
   "cell_type": "code",
   "execution_count": 27,
   "metadata": {
    "id": "CvJwLSl29ICA"
   },
   "outputs": [],
   "source": [
    "# computing total length of the string"
   ]
  },
  {
   "cell_type": "code",
   "execution_count": 28,
   "metadata": {
    "colab": {
     "base_uri": "https://localhost:8080/"
    },
    "id": "Kyu9jMb39ICB",
    "outputId": "6b015357-5287-434a-dc6d-8bf51b8527d7"
   },
   "outputs": [
    {
     "data": {
      "text/plain": [
       "51"
      ]
     },
     "execution_count": 28,
     "metadata": {},
     "output_type": "execute_result"
    }
   ],
   "source": [
    "len(s3)"
   ]
  },
  {
   "cell_type": "markdown",
   "metadata": {
    "id": "GnIsj0oW9ICB"
   },
   "source": [
    "## String Indexing and Slicing <a class='anchor' id='string_in_sl'></a>"
   ]
  },
  {
   "cell_type": "code",
   "execution_count": 29,
   "metadata": {
    "colab": {
     "base_uri": "https://localhost:8080/"
    },
    "id": "RnHqlDmE9ICC",
    "outputId": "d1c60f53-0a4a-419c-8681-f6b45fbd8a9a"
   },
   "outputs": [
    {
     "data": {
      "text/plain": [
       "('PYTHON', str)"
      ]
     },
     "execution_count": 29,
     "metadata": {},
     "output_type": "execute_result"
    }
   ],
   "source": [
    "# creating a string\n",
    "s = 'PYTHON'\n",
    "s, type(s)"
   ]
  },
  {
   "cell_type": "markdown",
   "metadata": {
    "id": "3KoSz5y69ICD"
   },
   "source": [
    "### String indexing"
   ]
  },
  {
   "cell_type": "code",
   "execution_count": 30,
   "metadata": {
    "colab": {
     "base_uri": "https://localhost:8080/"
    },
    "id": "DQYoFCK99ICD",
    "outputId": "b57c75e9-e186-47c2-8ed8-50855f694bbe"
   },
   "outputs": [
    {
     "name": "stdout",
     "output_type": "stream",
     "text": [
      "Character -> P has index-> 0\n",
      "Character -> Y has index-> 1\n",
      "Character -> T has index-> 2\n",
      "Character -> H has index-> 3\n",
      "Character -> O has index-> 4\n",
      "Character -> N has index-> 5\n"
     ]
    }
   ],
   "source": [
    "# depicting string indexes\n",
    "for index, character in enumerate(s):\n",
    "    print(f'Character -> {character} has index-> {index}')"
   ]
  },
  {
   "cell_type": "code",
   "execution_count": 31,
   "metadata": {
    "colab": {
     "base_uri": "https://localhost:8080/"
    },
    "id": "CnT81RN89ICG",
    "outputId": "640f8146-cf8b-4a88-b47d-be209f355ac3"
   },
   "outputs": [
    {
     "data": {
      "text/plain": [
       "('P', 'Y', 'T', 'H', 'O', 'N')"
      ]
     },
     "execution_count": 31,
     "metadata": {},
     "output_type": "execute_result"
    }
   ],
   "source": [
    "s[0], s[1], s[2], s[3], s[4], s[5]"
   ]
  },
  {
   "cell_type": "code",
   "execution_count": 32,
   "metadata": {
    "colab": {
     "base_uri": "https://localhost:8080/"
    },
    "id": "EEfDmIZk9ICG",
    "outputId": "8b7ed063-e55c-4f42-f03a-84ee1f7938e9"
   },
   "outputs": [
    {
     "data": {
      "text/plain": [
       "('N', 'O', 'H', 'T', 'Y', 'P')"
      ]
     },
     "execution_count": 32,
     "metadata": {},
     "output_type": "execute_result"
    }
   ],
   "source": [
    "s[-1], s[-2], s[-3], s[-4], s[-5], s[-6]"
   ]
  },
  {
   "cell_type": "markdown",
   "metadata": {
    "id": "a_Pc-rsI9ICH"
   },
   "source": [
    "### String slicing"
   ]
  },
  {
   "cell_type": "code",
   "execution_count": 33,
   "metadata": {
    "colab": {
     "base_uri": "https://localhost:8080/",
     "height": 0
    },
    "id": "f66-eHU39ICH",
    "outputId": "30b7283c-bfc2-4f9c-d780-9801915ce8ab"
   },
   "outputs": [
    {
     "data": {
      "text/plain": [
       "'PYTHON'"
      ]
     },
     "execution_count": 33,
     "metadata": {},
     "output_type": "execute_result"
    }
   ],
   "source": [
    "s[:] "
   ]
  },
  {
   "cell_type": "code",
   "execution_count": 34,
   "metadata": {
    "colab": {
     "base_uri": "https://localhost:8080/",
     "height": 0
    },
    "id": "6A4DRRat9ICI",
    "outputId": "342bf051-68d9-4e9c-f14a-ad831f8bb4ea"
   },
   "outputs": [
    {
     "data": {
      "text/plain": [
       "'YTH'"
      ]
     },
     "execution_count": 34,
     "metadata": {},
     "output_type": "execute_result"
    }
   ],
   "source": [
    "s[1:4]"
   ]
  },
  {
   "cell_type": "code",
   "execution_count": 35,
   "metadata": {
    "colab": {
     "base_uri": "https://localhost:8080/"
    },
    "id": "F66j996s9ICI",
    "outputId": "279a4f75-6cb7-4769-9f1f-54589313fec1"
   },
   "outputs": [
    {
     "data": {
      "text/plain": [
       "('PYT', 'HON')"
      ]
     },
     "execution_count": 35,
     "metadata": {},
     "output_type": "execute_result"
    }
   ],
   "source": [
    "s[:3], s[3:]"
   ]
  },
  {
   "cell_type": "code",
   "execution_count": 36,
   "metadata": {
    "colab": {
     "base_uri": "https://localhost:8080/",
     "height": 0
    },
    "id": "5-PtgDVG9ICJ",
    "outputId": "9ecc820b-b2e8-4bae-cb19-3fea7943d39d"
   },
   "outputs": [
    {
     "data": {
      "text/plain": [
       "'HON'"
      ]
     },
     "execution_count": 36,
     "metadata": {},
     "output_type": "execute_result"
    }
   ],
   "source": [
    "s[-3:]"
   ]
  },
  {
   "cell_type": "code",
   "execution_count": 37,
   "metadata": {
    "colab": {
     "base_uri": "https://localhost:8080/",
     "height": 0
    },
    "id": "gI2xUkcL9ICK",
    "outputId": "0248ec70-1854-4881-8cfd-598ce05ec219"
   },
   "outputs": [
    {
     "data": {
      "text/plain": [
       "'PYTHON'"
      ]
     },
     "execution_count": 37,
     "metadata": {},
     "output_type": "execute_result"
    }
   ],
   "source": [
    "s[:3] + s[3:]"
   ]
  },
  {
   "cell_type": "code",
   "execution_count": 38,
   "metadata": {
    "colab": {
     "base_uri": "https://localhost:8080/",
     "height": 0
    },
    "id": "23MZrm1V9ICK",
    "outputId": "0a818127-498b-41d2-bc16-004ebc42184b"
   },
   "outputs": [
    {
     "data": {
      "text/plain": [
       "'PYTHON'"
      ]
     },
     "execution_count": 38,
     "metadata": {},
     "output_type": "execute_result"
    }
   ],
   "source": [
    "s[:3] + s[-3:]"
   ]
  },
  {
   "cell_type": "markdown",
   "metadata": {
    "id": "m2_xtjNm9ICL"
   },
   "source": [
    "### String slicing with offsets"
   ]
  },
  {
   "cell_type": "code",
   "execution_count": 39,
   "metadata": {
    "colab": {
     "base_uri": "https://localhost:8080/",
     "height": 0
    },
    "id": "c8S0e5Y69ICL",
    "outputId": "020c7679-45c6-4467-c2b1-50dc168a93f8"
   },
   "outputs": [
    {
     "data": {
      "text/plain": [
       "'PYTHON'"
      ]
     },
     "execution_count": 39,
     "metadata": {},
     "output_type": "execute_result"
    }
   ],
   "source": [
    "s[::1]  # no offset"
   ]
  },
  {
   "cell_type": "code",
   "execution_count": 40,
   "metadata": {
    "colab": {
     "base_uri": "https://localhost:8080/",
     "height": 0
    },
    "id": "xqJuQb_i9ICM",
    "outputId": "557f9394-0341-496e-d819-b21e1de4b659"
   },
   "outputs": [
    {
     "data": {
      "text/plain": [
       "'PTO'"
      ]
     },
     "execution_count": 40,
     "metadata": {},
     "output_type": "execute_result"
    }
   ],
   "source": [
    "s[::2]  # print every 2nd character in string"
   ]
  },
  {
   "cell_type": "markdown",
   "metadata": {
    "id": "GMpUxy319ICM"
   },
   "source": [
    "### String Immutability"
   ]
  },
  {
   "cell_type": "code",
   "execution_count": 41,
   "metadata": {
    "colab": {
     "base_uri": "https://localhost:8080/",
     "height": 183
    },
    "id": "hUdaXwi19ICN",
    "outputId": "f6d62d77-ea87-4856-cdef-49d6f9e669a6"
   },
   "outputs": [
    {
     "ename": "TypeError",
     "evalue": "'str' object does not support item assignment",
     "output_type": "error",
     "traceback": [
      "\u001b[1;31m---------------------------------------------------------------------------\u001b[0m",
      "\u001b[1;31mTypeError\u001b[0m                                 Traceback (most recent call last)",
      "Input \u001b[1;32mIn [41]\u001b[0m, in \u001b[0;36m<cell line: 2>\u001b[1;34m()\u001b[0m\n\u001b[0;32m      1\u001b[0m \u001b[38;5;66;03m# strings are immutable hence assignment throws error\u001b[39;00m\n\u001b[1;32m----> 2\u001b[0m s[\u001b[38;5;241m0\u001b[39m] \u001b[38;5;241m=\u001b[39m \u001b[38;5;124m'\u001b[39m\u001b[38;5;124mX\u001b[39m\u001b[38;5;124m'\u001b[39m\n",
      "\u001b[1;31mTypeError\u001b[0m: 'str' object does not support item assignment"
     ]
    }
   ],
   "source": [
    "# strings are immutable hence assignment throws error\n",
    "s[0] = 'X'"
   ]
  },
  {
   "cell_type": "markdown",
   "metadata": {},
   "source": [
    "**Note**: you need to run the following code cells by clicking on the Run button."
   ]
  },
  {
   "cell_type": "code",
   "execution_count": 42,
   "metadata": {
    "colab": {
     "base_uri": "https://localhost:8080/"
    },
    "id": "tMQ3FlM19ICN",
    "outputId": "160a0c83-da7a-4677-e6da-85e4de28f9f4"
   },
   "outputs": [
    {
     "name": "stdout",
     "output_type": "stream",
     "text": [
      "Original String id: 2536804491312\n",
      "XYTHON\n",
      "New String id: 2536837197104\n"
     ]
    }
   ],
   "source": [
    "print(f'Original String id: {id(s)}')\n",
    "# creates a new string\n",
    "s = 'X' + s[1:]\n",
    "print(s)\n",
    "print(f'New String id: {id(s)}')"
   ]
  },
  {
   "cell_type": "markdown",
   "metadata": {
    "id": "nSSo7NfU9ICO"
   },
   "source": [
    "## String Methods <a class='anchor' id='string_met'></a>"
   ]
  },
  {
   "cell_type": "markdown",
   "metadata": {
    "id": "xRVlVoYS9ICO"
   },
   "source": [
    "### Case conversions"
   ]
  },
  {
   "cell_type": "code",
   "execution_count": 43,
   "metadata": {
    "id": "7YLLM0ZO9ICP"
   },
   "outputs": [],
   "source": [
    "s = 'python is great'"
   ]
  },
  {
   "cell_type": "code",
   "execution_count": 44,
   "metadata": {
    "id": "bK4-E_Om9ICQ"
   },
   "outputs": [
    {
     "data": {
      "text/plain": [
       "'Python is great'"
      ]
     },
     "execution_count": 44,
     "metadata": {},
     "output_type": "execute_result"
    }
   ],
   "source": [
    "s.capitalize()"
   ]
  },
  {
   "cell_type": "code",
   "execution_count": 45,
   "metadata": {
    "id": "VzyLxA-59ICR"
   },
   "outputs": [
    {
     "data": {
      "text/plain": [
       "'PYTHON IS GREAT'"
      ]
     },
     "execution_count": 45,
     "metadata": {},
     "output_type": "execute_result"
    }
   ],
   "source": [
    "s.upper()"
   ]
  },
  {
   "cell_type": "code",
   "execution_count": 46,
   "metadata": {
    "colab": {
     "base_uri": "https://localhost:8080/",
     "height": 35
    },
    "id": "l1FPFUoy9ICS",
    "outputId": "cd03c365-8178-495d-f631-b0b9f00bc6ab"
   },
   "outputs": [
    {
     "data": {
      "text/plain": [
       "'Python Is Great'"
      ]
     },
     "execution_count": 46,
     "metadata": {},
     "output_type": "execute_result"
    }
   ],
   "source": [
    "s.title()"
   ]
  },
  {
   "cell_type": "markdown",
   "metadata": {
    "id": "SaDxOZvn9ICT"
   },
   "source": [
    "### String replace"
   ]
  },
  {
   "cell_type": "code",
   "execution_count": 47,
   "metadata": {
    "colab": {
     "base_uri": "https://localhost:8080/",
     "height": 35
    },
    "id": "RTQEOVB19ICT",
    "outputId": "7b5c6c64-099d-420f-8cb6-ae0ffbc364a4"
   },
   "outputs": [
    {
     "data": {
      "text/plain": [
       "'NLP is great'"
      ]
     },
     "execution_count": 47,
     "metadata": {},
     "output_type": "execute_result"
    }
   ],
   "source": [
    "s.replace('python', 'NLP')"
   ]
  },
  {
   "cell_type": "markdown",
   "metadata": {
    "id": "KxKw0URn9ICU"
   },
   "source": [
    "### Numeric checks"
   ]
  },
  {
   "cell_type": "code",
   "execution_count": 48,
   "metadata": {
    "colab": {
     "base_uri": "https://localhost:8080/"
    },
    "id": "BmQ-bSjV9ICU",
    "outputId": "7c39d26c-0ca9-4fff-fd03-060d6092a105"
   },
   "outputs": [
    {
     "data": {
      "text/plain": [
       "True"
      ]
     },
     "execution_count": 48,
     "metadata": {},
     "output_type": "execute_result"
    }
   ],
   "source": [
    "'12345'.isdecimal()"
   ]
  },
  {
   "cell_type": "code",
   "execution_count": 49,
   "metadata": {
    "colab": {
     "base_uri": "https://localhost:8080/"
    },
    "id": "FaDYDuZG9ICY",
    "outputId": "b45734a9-2796-4c57-8d2d-910e11b6f759"
   },
   "outputs": [
    {
     "data": {
      "text/plain": [
       "False"
      ]
     },
     "execution_count": 49,
     "metadata": {},
     "output_type": "execute_result"
    }
   ],
   "source": [
    "'apollo11'.isdecimal()"
   ]
  },
  {
   "cell_type": "markdown",
   "metadata": {
    "id": "QX0_Y0PB9ICZ"
   },
   "source": [
    "### Alphabet checks"
   ]
  },
  {
   "cell_type": "code",
   "execution_count": 50,
   "metadata": {
    "colab": {
     "base_uri": "https://localhost:8080/"
    },
    "id": "0AquRmcL9ICZ",
    "outputId": "7a9f496f-30c7-4093-ccc8-dcd4e217c58e"
   },
   "outputs": [
    {
     "data": {
      "text/plain": [
       "True"
      ]
     },
     "execution_count": 50,
     "metadata": {},
     "output_type": "execute_result"
    }
   ],
   "source": [
    "'python'.isalpha()"
   ]
  },
  {
   "cell_type": "code",
   "execution_count": 51,
   "metadata": {
    "colab": {
     "base_uri": "https://localhost:8080/"
    },
    "id": "HD09sm8Q9ICa",
    "outputId": "0752f7b7-a87f-4bb3-83f2-e4aff19cc80e"
   },
   "outputs": [
    {
     "data": {
      "text/plain": [
       "False"
      ]
     },
     "execution_count": 51,
     "metadata": {},
     "output_type": "execute_result"
    }
   ],
   "source": [
    "'number1'.isalpha()"
   ]
  },
  {
   "cell_type": "markdown",
   "metadata": {
    "id": "wsgtT4wK9ICb"
   },
   "source": [
    "### Alphanumeric checks"
   ]
  },
  {
   "cell_type": "code",
   "execution_count": 52,
   "metadata": {
    "colab": {
     "base_uri": "https://localhost:8080/"
    },
    "id": "6P_V5fpm9ICb",
    "outputId": "a7740f63-ea4b-4a02-a110-b38373211bd7"
   },
   "outputs": [
    {
     "data": {
      "text/plain": [
       "True"
      ]
     },
     "execution_count": 52,
     "metadata": {},
     "output_type": "execute_result"
    }
   ],
   "source": [
    "'total'.isalnum()"
   ]
  },
  {
   "cell_type": "code",
   "execution_count": 53,
   "metadata": {
    "colab": {
     "base_uri": "https://localhost:8080/"
    },
    "id": "3RHqDZ5l9ICc",
    "outputId": "8bbc0108-6917-433a-b42f-5429c170a4ec"
   },
   "outputs": [
    {
     "data": {
      "text/plain": [
       "True"
      ]
     },
     "execution_count": 53,
     "metadata": {},
     "output_type": "execute_result"
    }
   ],
   "source": [
    "'abc123'.isalnum()"
   ]
  },
  {
   "cell_type": "code",
   "execution_count": 54,
   "metadata": {
    "colab": {
     "base_uri": "https://localhost:8080/"
    },
    "id": "Z0ZR4vpi9ICc",
    "outputId": "523eef50-82d8-4cf0-d87b-a50670a92f38"
   },
   "outputs": [
    {
     "data": {
      "text/plain": [
       "False"
      ]
     },
     "execution_count": 54,
     "metadata": {},
     "output_type": "execute_result"
    }
   ],
   "source": [
    "'1+1'.isalnum()"
   ]
  },
  {
   "cell_type": "markdown",
   "metadata": {
    "id": "8jRzRS-m9ICd"
   },
   "source": [
    "### String splitting and joining"
   ]
  },
  {
   "cell_type": "code",
   "execution_count": 55,
   "metadata": {
    "colab": {
     "base_uri": "https://localhost:8080/"
    },
    "id": "GFSK35vo9ICe",
    "outputId": "28e1df8d-ca25-47dd-cec0-f056461bd084"
   },
   "outputs": [
    {
     "data": {
      "text/plain": [
       "['I', 'am', 'a', 'comma', 'separated', 'string']"
      ]
     },
     "execution_count": 55,
     "metadata": {},
     "output_type": "execute_result"
    }
   ],
   "source": [
    "s = 'I,am,a,comma,separated,string'\n",
    "s.split(',')"
   ]
  },
  {
   "cell_type": "code",
   "execution_count": 56,
   "metadata": {
    "colab": {
     "base_uri": "https://localhost:8080/",
     "height": 35
    },
    "id": "zYOj_Uwu9ICe",
    "outputId": "a9ce8289-6c67-45b1-cd3c-692f41991d91"
   },
   "outputs": [
    {
     "data": {
      "text/plain": [
       "'I am a comma separated string'"
      ]
     },
     "execution_count": 56,
     "metadata": {},
     "output_type": "execute_result"
    }
   ],
   "source": [
    "' '.join(s.split(','))"
   ]
  },
  {
   "cell_type": "code",
   "execution_count": 57,
   "metadata": {
    "colab": {
     "base_uri": "https://localhost:8080/",
     "height": 35
    },
    "id": "v_epVSgE9ICf",
    "outputId": "bdf4ad1b-94e4-4f4c-fa64-693c908d4948"
   },
   "outputs": [
    {
     "data": {
      "text/plain": [
       "'   I am surrounded by spaces    '"
      ]
     },
     "execution_count": 57,
     "metadata": {},
     "output_type": "execute_result"
    }
   ],
   "source": [
    "# stripping whitespace characters\n",
    "s = '   I am surrounded by spaces    '\n",
    "s"
   ]
  },
  {
   "cell_type": "code",
   "execution_count": 58,
   "metadata": {
    "colab": {
     "base_uri": "https://localhost:8080/",
     "height": 35
    },
    "id": "BHGgsd819ICg",
    "outputId": "385f9153-b507-4aca-8785-beb57a4d9a45"
   },
   "outputs": [
    {
     "data": {
      "text/plain": [
       "'I am surrounded by spaces'"
      ]
     },
     "execution_count": 58,
     "metadata": {},
     "output_type": "execute_result"
    }
   ],
   "source": [
    "s.strip()"
   ]
  },
  {
   "cell_type": "code",
   "execution_count": 59,
   "metadata": {
    "colab": {
     "base_uri": "https://localhost:8080/"
    },
    "id": "Q89Uq_mT9ICg",
    "outputId": "111f797d-b122-4120-8b46-8735182feb1b"
   },
   "outputs": [
    {
     "data": {
      "text/plain": [
       "['Python is great', ' NLP is also good', '']"
      ]
     },
     "execution_count": 59,
     "metadata": {},
     "output_type": "execute_result"
    }
   ],
   "source": [
    "sentences = 'Python is great. NLP is also good.'\n",
    "sentences.split('.')"
   ]
  },
  {
   "cell_type": "code",
   "execution_count": 60,
   "metadata": {
    "colab": {
     "base_uri": "https://localhost:8080/"
    },
    "id": "e3tw7vCl9ICh",
    "outputId": "20e78dad-7374-4a6d-c598-ca79968cbe95"
   },
   "outputs": [
    {
     "name": "stdout",
     "output_type": "stream",
     "text": [
      "Python is great\n",
      " NLP is also good\n",
      "\n"
     ]
    }
   ],
   "source": [
    "print('\\n'.join(sentences.split('.')))"
   ]
  },
  {
   "cell_type": "code",
   "execution_count": 61,
   "metadata": {
    "colab": {
     "base_uri": "https://localhost:8080/"
    },
    "id": "JOt9bJCl9ICi",
    "outputId": "d7b207ff-3e32-4131-fb34-31be09b37cb6"
   },
   "outputs": [
    {
     "name": "stdout",
     "output_type": "stream",
     "text": [
      "Python is great\n",
      "NLP is also good\n"
     ]
    }
   ],
   "source": [
    "print('\\n'.join([sentence.strip() for sentence in sentences.split('.') if sentence]))"
   ]
  },
  {
   "cell_type": "markdown",
   "metadata": {
    "id": "UB0uaZAp9ICj"
   },
   "source": [
    "## String Formatting <a class='anchor' id='string_form'></a>"
   ]
  },
  {
   "cell_type": "markdown",
   "metadata": {
    "id": "OirNgqOO9ICk"
   },
   "source": [
    "### Simple string formatting expressions - old style"
   ]
  },
  {
   "cell_type": "code",
   "execution_count": 62,
   "metadata": {
    "colab": {
     "base_uri": "https://localhost:8080/",
     "height": 35
    },
    "id": "HYOkfgVL9ICk",
    "outputId": "29a28cbc-5b60-4377-db8a-cdc7421416e5"
   },
   "outputs": [
    {
     "data": {
      "text/plain": [
       "'Hello Python!'"
      ]
     },
     "execution_count": 62,
     "metadata": {},
     "output_type": "execute_result"
    }
   ],
   "source": [
    "'Hello %s' %('Python!')"
   ]
  },
  {
   "cell_type": "code",
   "execution_count": 63,
   "metadata": {
    "colab": {
     "base_uri": "https://localhost:8080/",
     "height": 35
    },
    "id": "BBmnKuJn9ICm",
    "outputId": "75f6f247-3f55-4145-e3b0-73ded00c7f2a"
   },
   "outputs": [
    {
     "data": {
      "text/plain": [
       "'Hello World! How are you?'"
      ]
     },
     "execution_count": 63,
     "metadata": {},
     "output_type": "execute_result"
    }
   ],
   "source": [
    "'Hello %s %s' %('World!', 'How are you?')"
   ]
  },
  {
   "cell_type": "markdown",
   "metadata": {
    "id": "D9h4GjeM9ICn"
   },
   "source": [
    "### Formatting expressions with different data types - old style"
   ]
  },
  {
   "cell_type": "code",
   "execution_count": 64,
   "metadata": {
    "colab": {
     "base_uri": "https://localhost:8080/",
     "height": 35
    },
    "id": "h-S4cRee9ICo",
    "outputId": "0ec7c1a4-e5e6-4154-d111-111e392b1971"
   },
   "outputs": [
    {
     "data": {
      "text/plain": [
       "'We have 2 bottles containing 2.50 gallons of milk'"
      ]
     },
     "execution_count": 64,
     "metadata": {},
     "output_type": "execute_result"
    }
   ],
   "source": [
    "'We have %d %s containing %.2f gallons of %s' % (2, 'bottles', 2.5, 'milk')"
   ]
  },
  {
   "cell_type": "code",
   "execution_count": 65,
   "metadata": {
    "colab": {
     "base_uri": "https://localhost:8080/",
     "height": 35
    },
    "id": "9JX7w7N09ICp",
    "outputId": "867bdfc1-778f-452f-d56b-496c2421ca74"
   },
   "outputs": [
    {
     "data": {
      "text/plain": [
       "'We have 5 jugs containing 10.87 gallons of juice'"
      ]
     },
     "execution_count": 65,
     "metadata": {},
     "output_type": "execute_result"
    }
   ],
   "source": [
    "'We have %d %s containing %.2f gallons of %s' % (5.21, 'jugs', 10.86763, 'juice')"
   ]
  },
  {
   "cell_type": "markdown",
   "metadata": {
    "id": "H-_gBQzW9ICq"
   },
   "source": [
    "### Formatting strings using the format method - new style"
   ]
  },
  {
   "cell_type": "code",
   "execution_count": 66,
   "metadata": {
    "colab": {
     "base_uri": "https://localhost:8080/",
     "height": 35
    },
    "id": "2-h54Zc29ICq",
    "outputId": "74c278b0-50a7-4192-f4b7-d9795a3433c6"
   },
   "outputs": [
    {
     "data": {
      "text/plain": [
       "'Hello Mr. Jones, it is a great pleasure to meet you at 5'"
      ]
     },
     "execution_count": 66,
     "metadata": {},
     "output_type": "execute_result"
    }
   ],
   "source": [
    "'Hello {} {}, it is a great {} to meet you at {}'.format('Mr.', 'Jones', 'pleasure', 5)"
   ]
  },
  {
   "cell_type": "code",
   "execution_count": 67,
   "metadata": {
    "colab": {
     "base_uri": "https://localhost:8080/",
     "height": 35
    },
    "id": "cXTUynD-9ICr",
    "outputId": "3bf2fab1-3c43-4f0a-dab6-f475f57e5cb7"
   },
   "outputs": [
    {
     "data": {
      "text/plain": [
       "\"Hello Sir Arthur, it is a great honor to meet you at 9 o' clock\""
      ]
     },
     "execution_count": 67,
     "metadata": {},
     "output_type": "execute_result"
    }
   ],
   "source": [
    "'Hello {} {}, it is a great {} to meet you at {} o\\' clock'.format('Sir', 'Arthur', 'honor', 9)"
   ]
  },
  {
   "cell_type": "markdown",
   "metadata": {},
   "source": [
    "### Formatting strings using the `f` method - new style"
   ]
  },
  {
   "cell_type": "code",
   "execution_count": 68,
   "metadata": {},
   "outputs": [
    {
     "data": {
      "text/plain": [
       "'Hello Mr. Jones, it is a great pleasure to meet you at 5'"
      ]
     },
     "execution_count": 68,
     "metadata": {},
     "output_type": "execute_result"
    }
   ],
   "source": [
    "f'Hello {\"Mr.\"} {\"Jones\"}, it is a great {\"pleasure\"} to meet you at {5}'"
   ]
  },
  {
   "cell_type": "markdown",
   "metadata": {
    "id": "Ac0FP_6I9ICt"
   },
   "source": [
    "### Alternative ways of using string format"
   ]
  },
  {
   "cell_type": "code",
   "execution_count": 69,
   "metadata": {
    "colab": {
     "base_uri": "https://localhost:8080/",
     "height": 35
    },
    "id": "9458PJPd9ICt",
    "outputId": "d298bea8-03c5-4332-cf7b-88d8c999cb60"
   },
   "outputs": [
    {
     "data": {
      "text/plain": [
       "'I have a sandwich and a soda with me'"
      ]
     },
     "execution_count": 69,
     "metadata": {},
     "output_type": "execute_result"
    }
   ],
   "source": [
    "'I have a {food_item} and a {drink_item} with me'.format(drink_item='soda', food_item='sandwich')"
   ]
  },
  {
   "cell_type": "code",
   "execution_count": 70,
   "metadata": {
    "colab": {
     "base_uri": "https://localhost:8080/",
     "height": 35
    },
    "id": "t4KUqFe49ICu",
    "outputId": "04948799-1832-4073-f6f1-4ccdee70e926"
   },
   "outputs": [
    {
     "data": {
      "text/plain": [
       "\"The dog has the following attributes: ['lazy', 'loyal']\""
      ]
     },
     "execution_count": 70,
     "metadata": {},
     "output_type": "execute_result"
    }
   ],
   "source": [
    "'The {animal} has the following attributes: {attributes}'.format(animal='dog', attributes=['lazy', 'loyal'])"
   ]
  }
 ],
 "metadata": {
  "anaconda-cloud": {},
  "colab": {
   "name": "Working with Text Data.ipynb",
   "provenance": []
  },
  "kernelspec": {
   "display_name": "Python 3 (ipykernel)",
   "language": "python",
   "name": "python3"
  },
  "language_info": {
   "codemirror_mode": {
    "name": "ipython",
    "version": 3
   },
   "file_extension": ".py",
   "mimetype": "text/x-python",
   "name": "python",
   "nbconvert_exporter": "python",
   "pygments_lexer": "ipython3",
   "version": "3.9.12"
  }
 },
 "nbformat": 4,
 "nbformat_minor": 1
}
