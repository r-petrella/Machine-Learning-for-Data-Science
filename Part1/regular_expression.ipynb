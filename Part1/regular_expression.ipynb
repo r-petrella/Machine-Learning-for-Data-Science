{
 "cells": [
  {
   "cell_type": "markdown",
   "metadata": {
    "id": "YE56XRwn9ICv"
   },
   "source": [
    "**Regular Expression Examples**\n",
    "\n",
    "1. The match() function \n",
    "2. The search() function\n",
    "3. The findall() function\n",
    "4. The finditer() function\n",
    "5. The sub() function\n",
    "6. The subn() function\n",
    "7. The start() and end() functions\n",
    "\n",
    "See other examples at [regular expression](https://docs.python.org/3/library/re.html) documentation."
   ]
  },
  {
   "cell_type": "code",
   "execution_count": 1,
   "metadata": {
    "id": "269Dh-3E9ICv"
   },
   "outputs": [],
   "source": [
    "import re\n",
    "\n",
    "s1 = 'Python is an excellent language.'\n",
    "s2 = 'I like the Python language. I use Python to build ML applications!'"
   ]
  },
  {
   "cell_type": "markdown",
   "metadata": {},
   "source": [
    "The `match()` function only returns a match if a match is found at the beginning of the `s1` string."
   ]
  },
  {
   "cell_type": "code",
   "execution_count": 2,
   "metadata": {
    "id": "ktOwC7Fd9ICw"
   },
   "outputs": [
    {
     "name": "stdout",
     "output_type": "stream",
     "text": [
      "None\n"
     ]
    }
   ],
   "source": [
    "pattern = 'python'\n",
    "\n",
    "print(re.match(pattern, s1))"
   ]
  },
  {
   "cell_type": "markdown",
   "metadata": {},
   "source": [
    "`pattern` is in lower case, hence the `ignore case` flag helps in matching same pattern with lower and upper cases."
   ]
  },
  {
   "cell_type": "code",
   "execution_count": 3,
   "metadata": {
    "colab": {
     "base_uri": "https://localhost:8080/"
    },
    "id": "VeGXrIan9ICw",
    "outputId": "f69f7bae-dc55-4310-c79e-992f9bf4a137"
   },
   "outputs": [
    {
     "data": {
      "text/plain": [
       "<re.Match object; span=(0, 6), match='Python'>"
      ]
     },
     "execution_count": 3,
     "metadata": {},
     "output_type": "execute_result"
    }
   ],
   "source": [
    "re.match(pattern, s1, flags=re.IGNORECASE)"
   ]
  },
  {
   "cell_type": "markdown",
   "metadata": {},
   "source": [
    "Print matched string and its indices in the original string. The `start()` and `end()` functions return the indices of the start and end of the substring matched. "
   ]
  },
  {
   "cell_type": "code",
   "execution_count": 4,
   "metadata": {
    "colab": {
     "base_uri": "https://localhost:8080/"
    },
    "id": "ofiUP4RN9ICz",
    "outputId": "5142ac50-16a7-4fe8-e3e8-fa86b50c996e"
   },
   "outputs": [
    {
     "name": "stdout",
     "output_type": "stream",
     "text": [
      "Found match Python ranging from index 0 - 6 in the string \"Python is an excellent language.\"\n"
     ]
    }
   ],
   "source": [
    "m = re.match(pattern, s1, flags=re.IGNORECASE)\n",
    "print(f'Found match {m.group(0)} ranging from index {m.start()} - {m.end()} in the string \"{s1}\"'#.format(m.group(0), \n",
    "                                                                            #m.start(), \n",
    "                                                                            #m.end(), s1)\n",
    "     )"
   ]
  },
  {
   "cell_type": "markdown",
   "metadata": {},
   "source": [
    "The `match()` function does not work when pattern is not at the beginning of the`s2` string."
   ]
  },
  {
   "cell_type": "code",
   "execution_count": 5,
   "metadata": {
    "id": "B1pJIOgK9IC0"
   },
   "outputs": [],
   "source": [
    "re.match(pattern, s2, re.IGNORECASE)"
   ]
  },
  {
   "cell_type": "markdown",
   "metadata": {},
   "source": [
    "See functions that find and search in `re`. There is the `search()` function checks for a match anywhere in the string."
   ]
  },
  {
   "cell_type": "code",
   "execution_count": 6,
   "metadata": {
    "colab": {
     "base_uri": "https://localhost:8080/"
    },
    "id": "3QqIysyy9IC1",
    "outputId": "533f4fba-974a-4941-a533-031042a43663"
   },
   "outputs": [
    {
     "data": {
      "text/plain": [
       "<re.Match object; span=(11, 17), match='Python'>"
      ]
     },
     "execution_count": 6,
     "metadata": {},
     "output_type": "execute_result"
    }
   ],
   "source": [
    "re.search(pattern, s2, re.IGNORECASE)"
   ]
  },
  {
   "cell_type": "markdown",
   "metadata": {},
   "source": [
    "The `findall()` function finds and searches `pattern` in `s2`."
   ]
  },
  {
   "cell_type": "code",
   "execution_count": 7,
   "metadata": {
    "colab": {
     "base_uri": "https://localhost:8080/"
    },
    "id": "vAhzTtBo9IC1",
    "outputId": "3c87c05a-bb5d-4439-f730-b47e389b2c05"
   },
   "outputs": [
    {
     "data": {
      "text/plain": [
       "['Python', 'Python']"
      ]
     },
     "execution_count": 7,
     "metadata": {},
     "output_type": "execute_result"
    }
   ],
   "source": [
    "re.findall(pattern, s2, re.IGNORECASE)"
   ]
  },
  {
   "cell_type": "markdown",
   "metadata": {},
   "source": [
    "The `finditer()` function returns an iterator that yield match objects over all non-overlapping matches for the re pattern in string."
   ]
  },
  {
   "cell_type": "code",
   "execution_count": 8,
   "metadata": {
    "colab": {
     "base_uri": "https://localhost:8080/"
    },
    "id": "5lcQ-3KA9IC4",
    "outputId": "10c78e78-36bf-477f-d985-5660e342ab21"
   },
   "outputs": [
    {
     "data": {
      "text/plain": [
       "<callable_iterator at 0x295a93549d0>"
      ]
     },
     "execution_count": 8,
     "metadata": {},
     "output_type": "execute_result"
    }
   ],
   "source": [
    "match_objs = re.finditer(pattern, s2, re.IGNORECASE)\n",
    "match_objs"
   ]
  },
  {
   "cell_type": "code",
   "execution_count": 9,
   "metadata": {
    "colab": {
     "base_uri": "https://localhost:8080/"
    },
    "id": "HcWZ-KgR9IC5",
    "outputId": "4a2d5ddc-bdf6-4c1a-ec5c-5e2b49317f6d"
   },
   "outputs": [
    {
     "name": "stdout",
     "output_type": "stream",
     "text": [
      "String: I like the Python language. I use Python to build ML applications!\n",
      "Found match 'Python' ranging from index 11 - 17\n",
      "Found match 'Python' ranging from index 34 - 40\n"
     ]
    }
   ],
   "source": [
    "print(f'String: {s2}')\n",
    "for m in match_objs:\n",
    "    print(f\"Found match '{m.group(0)}' ranging from index {m.start()} - {m.end()}\")"
   ]
  },
  {
   "cell_type": "markdown",
   "metadata": {},
   "source": [
    "Replace pattern with another string. The `sub()` function replaces every occurrence of a pattern with a string or the result of a function."
   ]
  },
  {
   "cell_type": "code",
   "execution_count": 10,
   "metadata": {
    "colab": {
     "base_uri": "https://localhost:8080/",
     "height": 35
    },
    "id": "1TF8FhCm9IC6",
    "outputId": "7ab3108e-65c4-488b-ddf3-e86e03f376b7"
   },
   "outputs": [
    {
     "data": {
      "text/plain": [
       "'I like the Java language. I use Java to build ML applications!'"
      ]
     },
     "execution_count": 10,
     "metadata": {},
     "output_type": "execute_result"
    }
   ],
   "source": [
    "re.sub(pattern, 'Java', s2, flags=re.IGNORECASE)"
   ]
  },
  {
   "cell_type": "markdown",
   "metadata": {},
   "source": [
    "The `subn()` function is similar to the `sub()` function but returns a tuple."
   ]
  },
  {
   "cell_type": "code",
   "execution_count": 11,
   "metadata": {
    "colab": {
     "base_uri": "https://localhost:8080/"
    },
    "id": "dfaxSRQZ9IC7",
    "outputId": "0ad58fac-8999-468e-f8f7-aeddc57db328"
   },
   "outputs": [
    {
     "name": "stdout",
     "output_type": "stream",
     "text": [
      "('I like the Java language. I use Java to build ML applications!', 2)\n"
     ]
    },
    {
     "data": {
      "text/plain": [
       "tuple"
      ]
     },
     "execution_count": 11,
     "metadata": {},
     "output_type": "execute_result"
    }
   ],
   "source": [
    "print(re.subn(pattern, 'Java', s2, flags=re.IGNORECASE))\n",
    "type(re.subn(pattern, 'Java', s2, flags=re.IGNORECASE))"
   ]
  },
  {
   "cell_type": "markdown",
   "metadata": {},
   "source": [
    "Dealing with unicode matching using regexes. "
   ]
  },
  {
   "cell_type": "code",
   "execution_count": 12,
   "metadata": {
    "colab": {
     "base_uri": "https://localhost:8080/",
     "height": 35
    },
    "id": "zcWNXrXL9IC7",
    "outputId": "daea2abf-1423-4b80-a6e9-13390ced1c44"
   },
   "outputs": [
    {
     "data": {
      "text/plain": [
       "'Hèllo! this is Python 🐍'"
      ]
     },
     "execution_count": 12,
     "metadata": {},
     "output_type": "execute_result"
    }
   ],
   "source": [
    "s = u'H\\u00e8llo! this is Python 🐍'\n",
    "s"
   ]
  },
  {
   "cell_type": "markdown",
   "metadata": {},
   "source": [
    "Match a space and the immediate word."
   ]
  },
  {
   "cell_type": "code",
   "execution_count": 13,
   "metadata": {
    "colab": {
     "base_uri": "https://localhost:8080/"
    },
    "id": "JXzCYVJw9IC8",
    "outputId": "c677641b-f58c-428f-c371-59688e1f267f"
   },
   "outputs": [
    {
     "data": {
      "text/plain": [
       "['Hèllo', 'this', 'is', 'Python']"
      ]
     },
     "execution_count": 13,
     "metadata": {},
     "output_type": "execute_result"
    }
   ],
   "source": [
    "re.findall(r'\\w+', s)"
   ]
  },
  {
   "cell_type": "code",
   "execution_count": 14,
   "metadata": {
    "colab": {
     "base_uri": "https://localhost:8080/"
    },
    "id": "l_RGpQut9IC9",
    "outputId": "57d3ccef-6e09-492a-9497-141c792e4e33"
   },
   "outputs": [
    {
     "data": {
      "text/plain": [
       "['Hèllo', 'Python']"
      ]
     },
     "execution_count": 14,
     "metadata": {},
     "output_type": "execute_result"
    }
   ],
   "source": [
    "re.findall(r\"[A-Z]\\w+\", s, re.UNICODE)"
   ]
  }
 ],
 "metadata": {
  "anaconda-cloud": {},
  "colab": {
   "name": "Working with Text Data.ipynb",
   "provenance": []
  },
  "kernelspec": {
   "display_name": "Python 3 (ipykernel)",
   "language": "python",
   "name": "python3"
  },
  "language_info": {
   "codemirror_mode": {
    "name": "ipython",
    "version": 3
   },
   "file_extension": ".py",
   "mimetype": "text/x-python",
   "name": "python",
   "nbconvert_exporter": "python",
   "pygments_lexer": "ipython3",
   "version": "3.9.12"
  }
 },
 "nbformat": 4,
 "nbformat_minor": 1
}
