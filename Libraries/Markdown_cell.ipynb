{
 "cells": [
  {
   "cell_type": "markdown",
   "metadata": {},
   "source": [
    "# Markdown language\n",
    "\n",
    "## Table of contents\n",
    "\n",
    "1. [Headings](#headings)\n",
    "1. [Code section](#code)\n",
    "1. [Mathematical symbol](#math)\n",
    "1. [Internal link](#ilink)\n",
    "1. [External link](#elink)\n",
    "1. [Images](#images)"
   ]
  },
  {
   "cell_type": "markdown",
   "metadata": {},
   "source": [
    "<a id='headings'></a>\n",
    "# Headings\n",
    "\n",
    "The Headings starts with `#` (hash symbol) followed by the space.\n",
    "\n",
    "There are six levels of Headings. The first three levels are for title, major heading and minor heading."
   ]
  },
  {
   "cell_type": "raw",
   "metadata": {},
   "source": [
    "`\n",
    "# Header 1\n",
    "## Header 2\n",
    "### Header 3\n",
    "`"
   ]
  },
  {
   "cell_type": "markdown",
   "metadata": {},
   "source": [
    "# Header 1\n",
    "## Header 2\n",
    "### Header 3"
   ]
  },
  {
   "cell_type": "markdown",
   "metadata": {},
   "source": [
    "<a id='code'></a>\n",
    "# Code section\n",
    "\n",
    "The code section is specific for the programming language linked to the Jupyter notebook. \n",
    "\n",
    "The following inline code starts and finishes with `back-ticks` and its rendering highlights the code. "
   ]
  },
  {
   "cell_type": "raw",
   "metadata": {},
   "source": [
    "`x=5`"
   ]
  },
  {
   "cell_type": "markdown",
   "metadata": {},
   "source": [
    "`x=5`\n",
    "\n",
    "The block of code starts and finishes with three `back-ticks`. "
   ]
  },
  {
   "cell_type": "raw",
   "metadata": {},
   "source": [
    "```\n",
    "a=1\n",
    "b=a+1\n",
    "print(b)\n",
    "```"
   ]
  },
  {
   "cell_type": "markdown",
   "metadata": {},
   "source": [
    "```\n",
    "a=1\n",
    "b=a+1\n",
    "print(b)\n",
    "```\n",
    "\n",
    "You can get the syntax of the programming language if its name is mentioned soon after the three `back-ticks`:"
   ]
  },
  {
   "cell_type": "raw",
   "metadata": {},
   "source": [
    "```py\n",
    "a=1\n",
    "b=a+1\n",
    "print(b)\n",
    "```"
   ]
  },
  {
   "cell_type": "markdown",
   "metadata": {},
   "source": [
    "```py\n",
    "a=1\n",
    "b=a+1\n",
    "print(b)\n",
    "```"
   ]
  },
  {
   "cell_type": "markdown",
   "metadata": {},
   "source": [
    "<a id='math'></a>\n",
    "# Mathematical Symbol\n",
    "\n",
    "The mathematical symbol in markdown is included in `$mathematical expression$` enclosed in a dollar symbol and in markup."
   ]
  },
  {
   "cell_type": "raw",
   "metadata": {},
   "source": [
    "$\\frac{1}{2}$"
   ]
  },
  {
   "cell_type": "markdown",
   "metadata": {},
   "source": [
    "$\\frac{1}{2}$"
   ]
  },
  {
   "cell_type": "markdown",
   "metadata": {},
   "source": [
    "<a id='ilink'></a>\n",
    "# Internal Link\n",
    "\n",
    "Internal link starts with `<a>` tag with unique id defined by the attribute `id` which can be linked in the notebook as follows:\n",
    "\n",
    "`<a id='section_1'></a>`\n",
    "\n",
    "The `id` defined above can be linked to the section of the notebook by following the code which makes the link clickable."
   ]
  },
  {
   "cell_type": "raw",
   "metadata": {},
   "source": [
    "[Introduction to Pandas](#section_1)"
   ]
  },
  {
   "cell_type": "markdown",
   "metadata": {},
   "source": [
    "<a id='elink'></a>\n",
    "# External Link\n",
    "\n",
    "External link can be represented by the code `__[text link](URL)__` where the double underscore is on both sides with the `text link` enclosed in a square bracket and the `URL` for the site is enclosed in a parenthesis followed by the `URL`."
   ]
  },
  {
   "cell_type": "markdown",
   "metadata": {},
   "source": [
    "__[Python for analytics](https://www.unibo.it/en/teaching/course-unit-catalogue/course-unit/2020/463713)__"
   ]
  },
  {
   "cell_type": "markdown",
   "metadata": {},
   "source": [
    "<a id='images'></a>\n",
    "# Images\n",
    "\n",
    "You can insert an image from the toolbar by choosing the `Edit -> Insert Image`. You can browse the required image selecting a file to insert.\n",
    "\n",
    "The image is rendered after clicking the `Run` in the toolbar."
   ]
  },
  {
   "cell_type": "markdown",
   "metadata": {},
   "source": [
    "Please look at __[datacamp](https://www.datacamp.com/community/tutorials/markdown-in-jupyter-notebook?utm_source=adwords_ppc&utm_campaignid=898687156&utm_adgroupid=48947256715&utm_device=c&utm_keyword=&utm_matchtype=b&utm_network=g&utm_adpostion=&utm_creative=229765585186&utm_targetid=aud-748597547652:dsa-429603003980&utm_loc_interest_ms=&utm_loc_physical_ms=1008141&gclid=CjwKCAjwmv-DBhAMEiwA7xYrd6IYpIfinqeSD3ZpdSKsnXzF1he32QpZSnerPwEvxPoijBiN8cF78RoC4ecQAvD_BwE)__ web page for further information."
   ]
  }
 ],
 "metadata": {
  "kernelspec": {
   "display_name": "Python 3 (ipykernel)",
   "language": "python",
   "name": "python3"
  },
  "language_info": {
   "codemirror_mode": {
    "name": "ipython",
    "version": 3
   },
   "file_extension": ".py",
   "mimetype": "text/x-python",
   "name": "python",
   "nbconvert_exporter": "python",
   "pygments_lexer": "ipython3",
   "version": "3.9.7"
  }
 },
 "nbformat": 4,
 "nbformat_minor": 4
}
