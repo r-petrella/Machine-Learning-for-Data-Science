{
 "cells": [
  {
   "cell_type": "markdown",
   "id": "e78e4e71",
   "metadata": {},
   "source": [
    "## Setup\n",
    "\n",
    "First, let's import a few common modules, ensure MatplotLib plots figures inline, set locations and prepare a function to save the figures. \n",
    "\n",
    "`%matplotLib inline` allows you to show resulting plots below the code cell that produced it and store plots in the notebook document. "
   ]
  },
  {
   "cell_type": "code",
   "execution_count": 1,
   "id": "680e41ae",
   "metadata": {},
   "outputs": [],
   "source": [
    "# Python ≥3.5 is required\n",
    "import sys\n",
    "assert sys.version_info >= (3, 5)\n",
    "\n",
    "# Common imports\n",
    "import os #It provides operating system operations.\n",
    "\n",
    "import numpy as np\n",
    "\n",
    "from numpy.random import rand #It returns random values.\n",
    "from numpy.random import randn #It returns a sample from the standard normal distribution.\n",
    "\n",
    "import pandas as pd\n",
    "import requests\n",
    "# To plot pretty figures\n",
    "%matplotlib inline \n",
    "import matplotlib as mpl \n",
    "\n",
    "# To create interactive plot\n",
    "import matplotlib.pyplot as plt #It provides a MATLAB-like way of plotting.\n",
    "\n",
    "# To load image\n",
    "import matplotlib.image as mpimg #It supports image loading, rescaling and display operations.\n",
    "\n",
    "# To set labelsize\n",
    "mpl.rc('axes', labelsize=14)\n",
    "mpl.rc('xtick', labelsize=12)\n",
    "mpl.rc('ytick', labelsize=12)\n",
    "\n",
    "import re\n",
    "import seaborn as sns\n",
    "\n",
    "# Where to save the data, results and images\n",
    "PATH = \"../\"\n",
    "\n",
    "DATA_PATH = os.path.join(PATH, \"data\")\n",
    "os.makedirs(DATA_PATH, exist_ok=True)\n",
    "\n",
    "RESULTS_PATH = os.path.join(PATH, \"results\")\n",
    "os.makedirs(RESULTS_PATH, exist_ok=True)\n",
    "\n",
    "IMAGES_PATH = os.path.join(PATH, \"images\")\n",
    "os.makedirs(IMAGES_PATH, exist_ok=True)\n",
    "\n",
    "def save_fig(fig_id, tight_layout=True, fig_extension=\"png\", resolution=300):\n",
    "    path = os.path.join(IMAGES_PATH, fig_id + \".\" + fig_extension)\n",
    "    print(\"Saving figure\", fig_id)\n",
    "    \n",
    "    if tight_layout:\n",
    "        plt.tight_layout()\n",
    "        \n",
    "    plt.savefig(path, format=fig_extension, dpi=resolution)"
   ]
  },
  {
   "cell_type": "markdown",
   "id": "f5b0a11b",
   "metadata": {},
   "source": [
    "Consider the following documentation for the various libraries:\n",
    "\n",
    "1. [`numpy`](https://numpy.org/doc/)\n",
    "1. [`numpy.random.rand`](https://numpy.org/doc/reference/random/generated/numpy.random.rand.html)\n",
    "1. [`numpy.random.randn`](https://numpy.org/doc/reference/random/generated/numpy.random.randn.html)\n",
    "1. [`matplotlib`](https://matplotlib.org/)\n",
    "1. [`matplotlib.pyplot`](https://matplotlib.org/stable/api/pyplot_summary.html)\n",
    "1. [`matplotlib.image`](https://matplotlib.org/stable/api/image_api.html)"
   ]
  }
 ],
 "metadata": {
  "kernelspec": {
   "display_name": "Python 3 (ipykernel)",
   "language": "python",
   "name": "python3"
  },
  "language_info": {
   "codemirror_mode": {
    "name": "ipython",
    "version": 3
   },
   "file_extension": ".py",
   "mimetype": "text/x-python",
   "name": "python",
   "nbconvert_exporter": "python",
   "pygments_lexer": "ipython3",
   "version": "3.9.12"
  }
 },
 "nbformat": 4,
 "nbformat_minor": 5
}
