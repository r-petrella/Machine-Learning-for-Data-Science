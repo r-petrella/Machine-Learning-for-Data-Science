{
 "cells": [
  {
   "cell_type": "code",
   "execution_count": 1,
   "metadata": {},
   "outputs": [
    {
     "ename": "FileNotFoundError",
     "evalue": "[Errno 2] No such file or directory: 'data\\\\us-states.json'",
     "output_type": "error",
     "traceback": [
      "\u001b[1;31m---------------------------------------------------------------------------\u001b[0m",
      "\u001b[1;31mFileNotFoundError\u001b[0m                         Traceback (most recent call last)",
      "Input \u001b[1;32mIn [1]\u001b[0m, in \u001b[0;36m<cell line: 6>\u001b[1;34m()\u001b[0m\n\u001b[0;32m      2\u001b[0m \u001b[38;5;28;01mimport\u001b[39;00m \u001b[38;5;21;01mjson\u001b[39;00m\n\u001b[0;32m      4\u001b[0m us_states \u001b[38;5;241m=\u001b[39m os\u001b[38;5;241m.\u001b[39mpath\u001b[38;5;241m.\u001b[39mjoin(\u001b[38;5;124m\"\u001b[39m\u001b[38;5;124mdata\u001b[39m\u001b[38;5;124m\"\u001b[39m, \u001b[38;5;124m\"\u001b[39m\u001b[38;5;124mus-states.json\u001b[39m\u001b[38;5;124m\"\u001b[39m)\n\u001b[1;32m----> 6\u001b[0m \u001b[38;5;28;01mwith\u001b[39;00m \u001b[38;5;28;43mopen\u001b[39;49m\u001b[43m(\u001b[49m\u001b[43mus_states\u001b[49m\u001b[43m)\u001b[49m \u001b[38;5;28;01mas\u001b[39;00m f:\n\u001b[0;32m      7\u001b[0m     states \u001b[38;5;241m=\u001b[39m json\u001b[38;5;241m.\u001b[39mload(f)\n\u001b[0;32m      9\u001b[0m kw \u001b[38;5;241m=\u001b[39m {\u001b[38;5;124m\"\u001b[39m\u001b[38;5;124mlocation\u001b[39m\u001b[38;5;124m\"\u001b[39m: [\u001b[38;5;241m48\u001b[39m, \u001b[38;5;241m-\u001b[39m\u001b[38;5;241m102\u001b[39m], \u001b[38;5;124m\"\u001b[39m\u001b[38;5;124mzoom_start\u001b[39m\u001b[38;5;124m\"\u001b[39m: \u001b[38;5;241m3\u001b[39m}\n",
      "\u001b[1;31mFileNotFoundError\u001b[0m: [Errno 2] No such file or directory: 'data\\\\us-states.json'"
     ]
    }
   ],
   "source": [
    "import os\n",
    "import json\n",
    "\n",
    "us_states = os.path.join(\"data\", \"us-states.json\")\n",
    "\n",
    "with open(us_states) as f:\n",
    "    states = json.load(f)\n",
    "\n",
    "kw = {\"location\": [48, -102], \"zoom_start\": 3}"
   ]
  },
  {
   "cell_type": "code",
   "execution_count": null,
   "metadata": {},
   "outputs": [],
   "source": [
    "import folium\n",
    "from folium import GeoJson\n",
    "\n",
    "m1 = folium.Map(tiles=None, **kw)\n",
    "\n",
    "GeoJson(states).add_to(m1)\n",
    "\n",
    "m1"
   ]
  },
  {
   "cell_type": "code",
   "execution_count": null,
   "metadata": {},
   "outputs": [],
   "source": [
    "import branca\n",
    "\n",
    "# Create a white image of 4 pixels, and embed it in a url.\n",
    "white_tile = branca.utilities.image_to_url([[1, 1], [1, 1]])\n",
    "\n",
    "# Create a map using this url for each tile.\n",
    "m2 = folium.Map(tiles=white_tile, attr=\"white tile\", **kw)\n",
    "\n",
    "GeoJson(states).add_to(m2)\n",
    "\n",
    "m2"
   ]
  },
  {
   "cell_type": "code",
   "execution_count": null,
   "metadata": {},
   "outputs": [],
   "source": [
    "images = [[(-1) ** ((i + j) // 30) for i in range(300)] for j in range(300)]\n",
    "\n",
    "tiles = branca.utilities.image_to_url(images)\n",
    "\n",
    "m3 = folium.Map(tiles=tiles, attr=\"Just because we can\", **kw)\n",
    "\n",
    "GeoJson(states).add_to(m3)\n",
    "\n",
    "m3"
   ]
  },
  {
   "cell_type": "code",
   "execution_count": null,
   "metadata": {},
   "outputs": [],
   "source": [
    "images = [[(-1) ** ((i // 30 + j // 30)) for i in range(300)] for j in range(300)]\n",
    "\n",
    "tiles = branca.utilities.image_to_url(images)\n",
    "\n",
    "m4 = folium.Map(tiles=tiles, attr=\"Just because we can\", **kw)\n",
    "\n",
    "GeoJson(states).add_to(m4)\n",
    "\n",
    "m4"
   ]
  }
 ],
 "metadata": {
  "kernelspec": {
   "display_name": "Python 3 (ipykernel)",
   "language": "python",
   "name": "python3"
  },
  "language_info": {
   "codemirror_mode": {
    "name": "ipython",
    "version": 3
   },
   "file_extension": ".py",
   "mimetype": "text/x-python",
   "name": "python",
   "nbconvert_exporter": "python",
   "pygments_lexer": "ipython3",
   "version": "3.9.12"
  }
 },
 "nbformat": 4,
 "nbformat_minor": 1
}
